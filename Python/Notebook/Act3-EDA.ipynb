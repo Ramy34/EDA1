{
 "cells": [
  {
   "cell_type": "code",
   "execution_count": 1,
   "metadata": {
    "collapsed": true
   },
   "outputs": [],
   "source": [
    "class Vertice:\n",
    "    def __init__(self, n):\n",
    "        self.nombre = n \n",
    "        self.vecinos = list()\n",
    "        self.distancia=0\n",
    "        self.color='white'\n",
    "        self.pred=-1\n",
    "        \n",
    "    def agregarVecino(self, v):\n",
    "        if v not in self.vecinos:\n",
    "            self.vecinos.append(v)\n",
    "            self.vecinos.sort()\n"
   ]
  },
  {
   "cell_type": "code",
   "execution_count": 2,
   "metadata": {
    "collapsed": false
   },
   "outputs": [],
   "source": [
    "class Graph:\n",
    "    vertices = {}\n",
    "    \n",
    "    def agregarVertice (self, vertice):\n",
    "        if isinstance(vertice, Vertice) and vertice.nombre not in self.vertices:\n",
    "            self.vertices[vertice.nombre] = vertice\n",
    "            return True\n",
    "        else:\n",
    "            return False\n",
    "        \n",
    "    def agregarArista(self, u, v):\n",
    "        if u in self.vertices and v in self.vertices:\n",
    "            for key, value in self.vertices.items():\n",
    "                if key == u :\n",
    "                    value.agregarVecino(v)\n",
    "                if key == v:\n",
    "                    value.agregarVecino(u)\n",
    "            return True \n",
    "        else:\n",
    "            return False\n",
    "        \n",
    "    \n",
    "    def printPath(self,vert,ini):\n",
    "        vert.distancia=0\n",
    "        vert.color='gris'\n",
    "        vert.pred=-1\n",
    "        \n",
    "        if ini.nombre==vert.nombre:\n",
    "            print(\"La distancia es Cero\")\n",
    "            \n",
    "        if ini.nombre>'J' or vert.nombre>'J':\n",
    "            print(\"La distancia no existe\")\n",
    "            \n",
    "        q=list()\n",
    "        \n",
    "        q.append(vert.nombre)\n",
    "        \n",
    "        while len(q)>0:\n",
    "            \n",
    "            u=q.pop()\n",
    "            node_u=self.vertices[u]\n",
    "            for v in node_u.vecinos:\n",
    "                node_v=self.vertices[v]\n",
    "                if node_v.color=='white':\n",
    "                    node_v.color='gris'\n",
    "                    node_v.distancia=node_u.distancia+1\n",
    "                    node_v.pred=node_u.nombre\n",
    "                    if node_v.nombre==ini.nombre:\n",
    "                        print(\"La distancia es \"+str(node_v.distancia))\n",
    "                        \n",
    "                        \n",
    "                   \n",
    "                    q.append(v)\n",
    "            self.vertices[u].color='black'\n",
    "                    "
   ]
  },
  {
   "cell_type": "code",
   "execution_count": 3,
   "metadata": {
    "collapsed": false
   },
   "outputs": [
    {
     "name": "stdout",
     "output_type": "stream",
     "text": [
      "La distancia entre los vertices dados es:\n",
      "H a C:\n",
      "La distancia es 6\n",
      "\n",
      "A a A:\n",
      "La distancia es Cero\n",
      "\n",
      "G a W:\n",
      "La distancia no existe\n"
     ]
    }
   ],
   "source": [
    "g=Graph()\n",
    "a=Vertice('A')\n",
    "g.agregarVertice(a)\n",
    "g.agregarVertice(Vertice('B'))\n",
    "for i in range(ord('A'),ord('K')):\n",
    "    g.agregarVertice(Vertice(chr(i)))\n",
    "    \n",
    "edges=['AB','AE','BF','CG','DE','DH','EH','FG','FI','FJ','GJ']\n",
    "for edge in edges:\n",
    "    g.agregarArista(edge[:1],edge[1:])\n",
    "\n",
    "print(\"La distancia entre los vertices dados es:\")\n",
    "print(\"H a C:\")\n",
    "g.printPath(Vertice('H'),Vertice('C'))\n",
    "\n",
    "print(\"\\nA a A:\")\n",
    "g.printPath(Vertice('A'),Vertice('A'))\n",
    "\n",
    "print(\"\\nG a W:\")\n",
    "g.printPath(Vertice('G'),Vertice('W'))\n"
   ]
  },
  {
   "cell_type": "code",
   "execution_count": null,
   "metadata": {
    "collapsed": true
   },
   "outputs": [],
   "source": []
  }
 ],
 "metadata": {
  "kernelspec": {
   "display_name": "Python [Root]",
   "language": "python",
   "name": "Python [Root]"
  },
  "language_info": {
   "codemirror_mode": {
    "name": "ipython",
    "version": 3
   },
   "file_extension": ".py",
   "mimetype": "text/x-python",
   "name": "python",
   "nbconvert_exporter": "python",
   "pygments_lexer": "ipython3",
   "version": "3.5.2"
  }
 },
 "nbformat": 4,
 "nbformat_minor": 0
}
