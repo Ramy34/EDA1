{
 "cells": [
  {
   "cell_type": "code",
   "execution_count": 1,
   "metadata": {
    "collapsed": false
   },
   "outputs": [
    {
     "name": "stdout",
     "output_type": "stream",
     "text": [
      "Populating the interactive namespace from numpy and matplotlib\n"
     ]
    }
   ],
   "source": [
    "%pylab inline\n",
    "\n",
    "import matplotlib.pyplot as plt\n",
    "from mpl_toolkits.mplot3d import Axes3D"
   ]
  },
  {
   "cell_type": "code",
   "execution_count": 2,
   "metadata": {
    "collapsed": true
   },
   "outputs": [],
   "source": [
    "def numDoble(num):\n",
    "    a = 0\n",
    "    i = num\n",
    "    while a < i:\n",
    "        num = 2 * num\n",
    "        a += 1\n",
    "    return a"
   ]
  },
  {
   "cell_type": "code",
   "execution_count": 3,
   "metadata": {
    "collapsed": false
   },
   "outputs": [
    {
     "data": {
      "image/png": "[encoded data removed]",
      "text/plain": [
       "<matplotlib.figure.Figure at 0xb546a4f8d0>"
      ]
     },
     "metadata": {},
     "output_type": "display_data"
    }
   ],
   "source": [
    "x = linspace(0, 10, 10) #Generando 10 puntos entre 0 y 5\n",
    "y = []\n",
    "\n",
    "for value in x:\n",
    "    y.append(numDoble(int(value)))\n",
    "    \n",
    "fig, ax = plt.subplots(facecolor='w', edgecolor='k')\n",
    "ax.plot(x, y, marker=\"o\",color=\"r\", linestyle='None')\n",
    "ax.grid(True)\n",
    "ax.set_xlabel('X')  #Etiqueta del eje x\n",
    "ax.set_ylabel('Y')  #Etiqueta del eje y\n",
    "ax.grid(True)\n",
    "ax.legend([\"y = x\"])\n",
    "\n",
    "plt.title('Lineal')\n",
    "plt.show()\n",
    "\n",
    "fig.savefig(\"gráfica.png\") #Guardando la gráfica"
   ]
  },
  {
   "cell_type": "code",
   "execution_count": null,
   "metadata": {
    "collapsed": true
   },
   "outputs": [],
   "source": []
  }
 ],
 "metadata": {
  "kernelspec": {
   "display_name": "Python 3",
   "language": "python",
   "name": "python3"
  },
  "language_info": {
   "codemirror_mode": {
    "name": "ipython",
    "version": 3
   },
   "file_extension": ".py",
   "mimetype": "text/x-python",
   "name": "python",
   "nbconvert_exporter": "python",
   "pygments_lexer": "ipython3",
   "version": "3.5.1"
  }
 },
 "nbformat": 4,
 "nbformat_minor": 0
}
